{
 "cells": [
  {
   "cell_type": "markdown",
   "metadata": {},
   "source": [
    "# Imports"
   ]
  },
  {
   "cell_type": "code",
   "execution_count": 31,
   "metadata": {},
   "outputs": [],
   "source": [
    "import matplotlib.pyplot as plt\n",
    "import numpy as np\n",
    "\n",
    "\n",
    "import torch\n",
    "from torch import optim, nn, utils, Tensor\n",
    "\n",
    "from torchvision.datasets import MNIST\n",
    "from torchvision.utils import make_grid\n",
    "from torchvision.transforms import ToTensor\n",
    "from torch.utils.data import Dataset, DataLoader\n",
    "\n",
    "from utils.my_transforms.transform import to_numpy\n",
    "\n",
    "\n",
    "import pytorch_lightning as pl\n",
    "from pytorch_lightning.loggers import TensorBoardLogger"
   ]
  },
  {
   "cell_type": "markdown",
   "metadata": {},
   "source": [
    "# Dataset and Dataloader"
   ]
  },
  {
   "cell_type": "code",
   "execution_count": 2,
   "metadata": {},
   "outputs": [],
   "source": [
    "mnist_dataset = MNIST('/datasets/', train=True, download=True, transform=ToTensor())\n",
    "train_loader = DataLoader(mnist_dataset, batch_size=64, shuffle=True)"
   ]
  },
  {
   "cell_type": "code",
   "execution_count": null,
   "metadata": {},
   "outputs": [],
   "source": [
    "# for idx, (image, label) in enumerate(mnist_dataset):\n",
    "\n",
    "#     uint8_image = to_numpy(image)*255\n",
    "#     plt.imshow(uint8_image)\n",
    "#     plt.axis('off')\n",
    "#     plt.show()\n",
    "#     if idx >= 5:\n",
    "#         break"
   ]
  },
  {
   "cell_type": "markdown",
   "metadata": {},
   "source": [
    "# Model definition"
   ]
  },
  {
   "cell_type": "code",
   "execution_count": 81,
   "metadata": {},
   "outputs": [],
   "source": [
    "# Ref. logger: https://learnopencv.com/tensorboard-with-pytorch-lightning/\n",
    "# Pytorch lightningModule reference: https://pytorch-lightning.readthedocs.io/en/latest/starter/style_guide.html\n",
    "\n",
    "# define any number of nn.Modules (or use your current ones)\n",
    "# define the LightningModule\n",
    "class LitAutoEncoder(pl.LightningModule):\n",
    "    def __init__(self):\n",
    "        super().__init__()\n",
    "        # self.save_hyperparameters()\n",
    "        self.z_size = 5\n",
    "\n",
    "        self.encoder = nn.Sequential(nn.Linear(28 * 28, 64), nn.ReLU(),\n",
    "                                     nn.Linear(64, self.z_size),\n",
    "                                     )\n",
    "        self.decoder = nn.Sequential(nn.Linear(self.z_size, 64), nn.ReLU(),\n",
    "                                     nn.Linear(64, 28 * 28), nn.Sigmoid(),\n",
    "                                     )\n",
    "\n",
    "    def training_step(self, batch, batch_idx):\n",
    "        # training_step defines the train loop.\n",
    "        # it is independent of forward\n",
    "        x, _ = batch        \n",
    "        x = x.reshape(x.size(0), -1)\n",
    "        \n",
    "        if batch_idx == 0 and self.current_epoch == 0:\n",
    "            self.reference_train_batch = batch\n",
    "\n",
    "        z = self.encoder(x)\n",
    "        x_hat = self.decoder(z)\n",
    "        loss = nn.functional.mse_loss(x_hat, x)\n",
    "        # Logging to TensorBoard by default\n",
    "        self.log(\"train_loss\", loss, prog_bar=True)\n",
    "        return loss\n",
    "\n",
    "    def training_epoch_end(self, outputs):\n",
    "        # log the model's graph\n",
    "        # if(self.current_epoch == 1):\n",
    "        #     sampleImg = torch.rand(((1, 28*28)))\n",
    "        #     self.logger.experiment.add_graph(LitAutoEncoder(), sampleImg)\n",
    "        \n",
    "        # logging histogram\n",
    "        self.custom_histogram_adder()\n",
    "        self.custom_show_batch_images(self.reference_train_batch)\n",
    "        self.custom_log_embedding(self.reference_train_batch)\n",
    "\n",
    "    def configure_optimizers(self):\n",
    "        optimizer = optim.Adam(self.parameters(), lr=1e-3)\n",
    "        return optimizer\n",
    "\n",
    "    # custom logs\n",
    "    def custom_log_embedding(self, batch):\n",
    "        ib, lb = batch\n",
    "        X = ib.reshape(ib.size(0), -1)\n",
    "        Z = self.encoder(X)\n",
    "\n",
    "        self.logger.experiment.add_embedding(Z, lb.numpy().tolist(), ib, self.current_epoch, 'latent-space')\n",
    "\n",
    "    def custom_show_batch_images(self, batch):\n",
    "        X, _ = batch\n",
    "        X = X.reshape(X.size(0), -1)\n",
    "        \n",
    "        Z = self.encoder(X)\n",
    "        \n",
    "        X_hat = self.decoder(Z) #shape: (BATCH_SIZE, 1, 28*28)\n",
    "        X_hat = X_hat.reshape(-1, 1, 28, 28)\n",
    "\n",
    "        grid = make_grid(X_hat)\n",
    "        self.logger.experiment.add_image('X_hat', grid, self.current_epoch, dataformats='CHW')\n",
    "\n",
    "    def custom_histogram_adder(self):\n",
    "        for name, params in self.named_parameters():\n",
    "            self.logger.experiment.add_histogram(name, params, self.current_epoch)"
   ]
  },
  {
   "cell_type": "markdown",
   "metadata": {},
   "source": [
    "# Init autoencoder"
   ]
  },
  {
   "cell_type": "code",
   "execution_count": null,
   "metadata": {},
   "outputs": [],
   "source": []
  },
  {
   "cell_type": "markdown",
   "metadata": {},
   "source": [
    "# Model Training"
   ]
  },
  {
   "cell_type": "code",
   "execution_count": 82,
   "metadata": {},
   "outputs": [
    {
     "name": "stderr",
     "output_type": "stream",
     "text": [
      "GPU available: False, used: False\n",
      "TPU available: False, using: 0 TPU cores\n",
      "IPU available: False, using: 0 IPUs\n",
      "HPU available: False, using: 0 HPUs\n",
      "\n",
      "  | Name    | Type       | Params\n",
      "---------------------------------------\n",
      "0 | encoder | Sequential | 50.6 K\n",
      "1 | decoder | Sequential | 51.3 K\n",
      "---------------------------------------\n",
      "101 K     Trainable params\n",
      "0         Non-trainable params\n",
      "101 K     Total params\n",
      "0.408     Total estimated model params size (MB)\n",
      "/usr/local/lib/python3.9/dist-packages/pytorch_lightning/trainer/connectors/data_connector.py:240: PossibleUserWarning: The dataloader, train_dataloader, does not have many workers which may be a bottleneck. Consider increasing the value of the `num_workers` argument` (try 8 which is the number of cpus on this machine) in the `DataLoader` init to improve performance.\n",
      "  rank_zero_warn(\n"
     ]
    },
    {
     "data": {
      "application/vnd.jupyter.widget-view+json": {
       "model_id": "43085c33e5ff43689bc58ce9036f165f",
       "version_major": 2,
       "version_minor": 0
      },
      "text/plain": [
       "Training: 0it [00:00, ?it/s]"
      ]
     },
     "metadata": {},
     "output_type": "display_data"
    }
   ],
   "source": [
    "autoencoder = LitAutoEncoder()\n",
    "\n",
    "logger = TensorBoardLogger('tb-logs', 'mnist-exp')\n",
    "\n",
    "# train the model (hint: here are some helpful Trainer arguments for rapid idea iteration)\n",
    "# trainer = pl.Trainer(limit_train_batches=100, max_epochs=10, gpus=1)\n",
    "trainer = pl.Trainer(limit_train_batches=100,\n",
    "                     max_epochs=10,\n",
    "                     logger=logger,\n",
    "                     num_sanity_val_steps=2,\n",
    "                     )\n",
    "\n",
    "trainer.fit(model=autoencoder, train_dataloaders=train_loader)"
   ]
  },
  {
   "cell_type": "code",
   "execution_count": null,
   "metadata": {},
   "outputs": [],
   "source": [
    "%reload_ext tensorboard\n",
    "# %tensorboard --logdir=lightning_logs/\n",
    "%tensorboard --logdir=tb-logs/"
   ]
  },
  {
   "cell_type": "markdown",
   "metadata": {},
   "source": [
    "# Results"
   ]
  },
  {
   "cell_type": "code",
   "execution_count": null,
   "metadata": {},
   "outputs": [],
   "source": [
    "image, label = mnist_dataset[5]\n",
    "\n",
    "z = autoencoder.encoder(image.reshape(1, -1))\n",
    "z.shape"
   ]
  },
  {
   "cell_type": "code",
   "execution_count": null,
   "metadata": {},
   "outputs": [],
   "source": [
    "z_rnd = Tensor( np.random.normal(size=(1, 3)) )\n",
    "\n",
    "y_hat = autoencoder.decoder(z_rnd).reshape(1, 28, 28)\n",
    "y_hat = to_numpy(y_hat.detach())\n",
    "\n",
    "plt.imshow(y_hat)\n",
    "plt.axis('off')\n",
    "plt.show()"
   ]
  },
  {
   "cell_type": "code",
   "execution_count": null,
   "metadata": {},
   "outputs": [],
   "source": [
    "y_hat = autoencoder.decoder(z).reshape(1, 28, 28)\n",
    "y_hat = to_numpy(y_hat.detach())\n",
    "\n",
    "plt.imshow(y_hat)\n",
    "plt.axis('off')\n",
    "plt.show()"
   ]
  }
 ],
 "metadata": {
  "kernelspec": {
   "display_name": "Python 3.10.4 64-bit",
   "language": "python",
   "name": "python3"
  },
  "language_info": {
   "codemirror_mode": {
    "name": "ipython",
    "version": 3
   },
   "file_extension": ".py",
   "mimetype": "text/x-python",
   "name": "python",
   "nbconvert_exporter": "python",
   "pygments_lexer": "ipython3",
   "version": "3.9.13"
  },
  "orig_nbformat": 4,
  "vscode": {
   "interpreter": {
    "hash": "916dbcbb3f70747c44a77c7bcd40155683ae19c65e1c03b4aa3499c5328201f1"
   }
  }
 },
 "nbformat": 4,
 "nbformat_minor": 2
}
